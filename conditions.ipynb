{
 "cells": [
  {
   "cell_type": "markdown",
   "metadata": {},
   "source": [
    "# IMPORTS"
   ]
  },
  {
   "cell_type": "code",
   "execution_count": 1,
   "metadata": {},
   "outputs": [],
   "source": [
    "# \\\\  -------- IMPORTS -------- //\n",
    "\n",
    "from ast import Return\n",
    "from codecs import getdecoder\n",
    "from pkgutil import get_data\n",
    "from typing import List\n",
    "from unicodedata import name\n",
    "import numpy as np\n",
    "import datetime as dt\n",
    "import pandas as pd\n",
    "import matplotlib.pyplot as plt\n",
    "\n",
    "#import backtrader as bt\n",
    "#import talib\n",
    "\n",
    "# cyclical imports\n",
    "from statsmodels.tsa.filters.hp_filter import hpfilter\n",
    "\n",
    "\n",
    "# for outliers in data cleaning\n",
    "from scipy import stats\n",
    "\n",
    "# Data API\n",
    "from pandas_datareader import data as pdr\n",
    "import yfinance as yfin\n",
    "yfin.pdr_override()\n",
    "\n",
    "df = 0\n",
    "df1 = 0\n",
    "\n",
    "end = dt.datetime.now()  # end date is now\n",
    "start = dt.datetime(1980, 1, 1)   # start date "
   ]
  },
  {
   "cell_type": "markdown",
   "metadata": {},
   "source": [
    "# IMPORT DATA"
   ]
  },
  {
   "cell_type": "code",
   "execution_count": 12,
   "metadata": {},
   "outputs": [],
   "source": [
    "# economic metrics from FRED Data\n",
    "\n",
    "riskfreerate = ['DGS3MO'] # 3 month t bills\n",
    "\n",
    "# US\n",
    "USGDP = ['GDP'] # GDP QUARTERLY \n",
    "USGDPYOY = ['GDPA'] # GDP ANNUAL\n",
    "USGDPQQ = ['A191RL1Q225SBEA'] # USGDPQQ\n",
    "USCPI = ['CPIAUCSL'] # CPI monthly\n",
    "USCPIMM = ['CORESTICKM159SFRBATL'] # CPI MOM\n",
    "USUR = ['U2RATE'] # UNEMP monthly\n",
    "\n",
    "USINTR = ['DFF'] # US INTEREST RATE\n",
    "\n",
    "Economiclist = riskfreerate + USGDP + USGDPYOY + USGDPQQ + USCPI + USCPIMM + USUR + USINTR\n",
    "\n",
    "\n",
    "df2_quarterly = pdr.get_data_fred(Economiclist, start, end)\n",
    "\n"
   ]
  },
  {
   "cell_type": "code",
   "execution_count": 13,
   "metadata": {},
   "outputs": [
    {
     "data": {
      "text/plain": [
       "<AxesSubplot:xlabel='DATE'>"
      ]
     },
     "execution_count": 13,
     "metadata": {},
     "output_type": "execute_result"
    },
    {
     "data": {
      "image/png": "[encoded data removed]",
      "text/plain": [
       "<Figure size 432x288 with 1 Axes>"
      ]
     },
     "metadata": {
      "needs_background": "light"
     },
     "output_type": "display_data"
    }
   ],
   "source": [
    "df2_quarterly['GDPA'].plot()"
   ]
  },
  {
   "cell_type": "markdown",
   "metadata": {},
   "source": [
    "# CLEAN DATA"
   ]
  },
  {
   "cell_type": "code",
   "execution_count": 14,
   "metadata": {},
   "outputs": [],
   "source": [
    "# clean the economic data\n",
    "\n",
    "result_eco = df2_quarterly.asfreq('D')\n",
    "\n",
    "result_eco = result_eco.interpolate(method = 'linear') # fill gaps to the correct frequency\n",
    "\n",
    "result_eco = result_eco.fillna(method = 'ffill')\n",
    "\n",
    "result_eco = result_eco.fillna(method = 'backfill')\n",
    "\n",
    "result_eco = result_eco[(np.abs(stats.zscore(result_eco)) < 10).all(axis=1)] # remove any extreme outliers\n",
    "\n",
    "# drop duplicate columns\n",
    "result_eco = result_eco.loc[:, ~result_eco.columns.duplicated()]"
   ]
  },
  {
   "cell_type": "code",
   "execution_count": 18,
   "metadata": {},
   "outputs": [
    {
     "data": {
      "text/plain": [
       "<AxesSubplot:xlabel='DATE'>"
      ]
     },
     "execution_count": 18,
     "metadata": {},
     "output_type": "execute_result"
    },
    {
     "data": {
      "image/png": "[encoded data removed]",
      "text/plain": [
       "<Figure size 432x288 with 1 Axes>"
      ]
     },
     "metadata": {
      "needs_background": "light"
     },
     "output_type": "display_data"
    }
   ],
   "source": [
    "result_eco['GDPA'].plot()"
   ]
  },
  {
   "cell_type": "code",
   "execution_count": 19,
   "metadata": {},
   "outputs": [],
   "source": [
    "# process to get GDP YOY\n",
    "\n",
    "USGDPYoY = result_eco['GDPA'].asfreq('Y')\n",
    "\n",
    "# transform to yearly data \n",
    "\n",
    "# pct_change\n",
    "\n",
    "# transform to daily data\n",
    "\n",
    "# clean data"
   ]
  },
  {
   "cell_type": "code",
   "execution_count": 27,
   "metadata": {},
   "outputs": [
    {
     "data": {
      "text/plain": [
       "DATE\n",
       "1980-12-31          NaN\n",
       "1981-12-31     4.283383\n",
       "1982-12-31     8.668637\n",
       "1983-12-31    11.099300\n",
       "1984-12-31     7.473002\n",
       "1985-12-31     5.551117\n",
       "1986-12-31     6.016379\n",
       "1987-12-31     7.847085\n",
       "1988-12-31     7.737327\n",
       "1989-12-31     5.705017\n",
       "1990-12-31     3.276135\n",
       "1991-12-31     5.874694\n",
       "1992-12-31     5.189183\n",
       "1993-12-31     6.247441\n",
       "1994-12-31     4.841047\n",
       "1995-12-31     5.670425\n",
       "1996-12-31     6.246818\n",
       "1997-12-31     5.658861\n",
       "1998-12-31     6.269692\n",
       "1999-12-31     6.434724\n",
       "2000-12-31     3.237023\n",
       "2001-12-31     3.280704\n",
       "2002-12-31     4.821018\n",
       "2003-12-31     6.635584\n",
       "2004-12-31     6.728054\n",
       "2005-12-31     5.956184\n",
       "2006-12-31     4.770476\n",
       "2007-12-31     2.049612\n",
       "2008-12-31    -1.964837\n",
       "2009-12-31     3.926700\n",
       "2010-12-31     3.660539\n",
       "2011-12-31     4.192500\n",
       "2012-12-31     3.626643\n",
       "2013-12-31     4.198907\n",
       "2014-12-31     3.735189\n",
       "2015-12-31     2.689147\n",
       "2016-12-31     4.180183\n",
       "2017-12-31     5.416971\n",
       "2018-12-31     4.132881\n",
       "2019-12-31    -1.484195\n",
       "2020-12-31    10.671531\n",
       "2021-12-31     9.215001\n",
       "2022-12-31     0.023113\n",
       "Freq: A-DEC, Name: GDPA, dtype: float64"
      ]
     },
     "execution_count": 27,
     "metadata": {},
     "output_type": "execute_result"
    }
   ],
   "source": [
    "USGDPYoY.pct_change() * 100\n",
    "\n"
   ]
  },
  {
   "cell_type": "code",
   "execution_count": 26,
   "metadata": {},
   "outputs": [
    {
     "data": {
      "text/plain": [
       "<AxesSubplot:xlabel='DATE'>"
      ]
     },
     "execution_count": 26,
     "metadata": {},
     "output_type": "execute_result"
    },
    {
     "data": {
      "image/png": "[encoded data removed]",
      "text/plain": [
       "<Figure size 432x288 with 1 Axes>"
      ]
     },
     "metadata": {
      "needs_background": "light"
     },
     "output_type": "display_data"
    }
   ],
   "source": [
    "USGDPYoY.diff().plot()"
   ]
  },
  {
   "cell_type": "markdown",
   "metadata": {},
   "source": [
    "# IMPORT ASSETS"
   ]
  },
  {
   "cell_type": "code",
   "execution_count": 4,
   "metadata": {},
   "outputs": [
    {
     "name": "stdout",
     "output_type": "stream",
     "text": [
      "[*********************100%***********************]  4 of 4 completed\n"
     ]
    }
   ],
   "source": [
    "# import asset data\n",
    "data = yfin.download((\"SPY\", 'DX-Y.NYB', 'CL=F', 'GBPUSD=X'), start=\"1980-01-01\", end= dt.datetime.now())\n",
    "\n",
    "data_1 = pd.DataFrame(data[\"Close\"])\n",
    "\n",
    "# clean the data\n",
    "\n",
    "df_asset = data_1.asfreq('D')\n",
    "\n",
    "df_asset = df_asset.interpolate(method = 'linear') # fill gaps to the correct frequency\n",
    "\n",
    "df_asset = df_asset.fillna(method = 'ffill')\n",
    "\n",
    "df_asset = df_asset.fillna(method = 'backfill')\n",
    "\n",
    "df_asset = df_asset[(np.abs(stats.zscore(df_asset)) < 10).all(axis=1)] # remove any extreme outliers"
   ]
  },
  {
   "cell_type": "markdown",
   "metadata": {},
   "source": [
    "# JOIN DATA"
   ]
  },
  {
   "cell_type": "code",
   "execution_count": null,
   "metadata": {},
   "outputs": [],
   "source": [
    "#joining economic and asset data\n",
    "data = pd.concat([result_eco, df_asset], axis = 1)\n",
    "\n",
    "data = data.fillna(method = 'ffill')\n",
    "\n",
    "data = data.fillna(method = 'backfill')\n"
   ]
  },
  {
   "cell_type": "markdown",
   "metadata": {},
   "source": [
    "# SET QUADS AND CRITERIA"
   ]
  },
  {
   "cell_type": "code",
   "execution_count": 8,
   "metadata": {},
   "outputs": [
    {
     "name": "stdout",
     "output_type": "stream",
     "text": [
      "DATE\n",
      "2023-04-27    1.1\n",
      "Freq: D, Name: A191RL1Q225SBEA, dtype: float64\n"
     ]
    },
    {
     "data": {
      "image/png": "[encoded data removed]",
      "text/plain": [
       "<Figure size 432x288 with 1 Axes>"
      ]
     },
     "metadata": {
      "needs_background": "light"
     },
     "output_type": "display_data"
    }
   ],
   "source": [
    "result_eco['A191RL1Q225SBEA'].plot()\n",
    "print(result_eco['A191RL1Q225SBEA'].tail(1))"
   ]
  },
  {
   "cell_type": "markdown",
   "metadata": {},
   "source": [
    "# FIND BEST AND WORST PERFOMING ASSET IN CURRENT ENVIRONMENT"
   ]
  },
  {
   "cell_type": "markdown",
   "metadata": {},
   "source": [
    "## CALCULATE THROUGH EACH ASSET"
   ]
  },
  {
   "cell_type": "code",
   "execution_count": null,
   "metadata": {},
   "outputs": [],
   "source": [
    "# AVG DAILY RETURN\n",
    "# SHARPE RATIO\n",
    "# CALMARO RATIO"
   ]
  },
  {
   "cell_type": "code",
   "execution_count": null,
   "metadata": {},
   "outputs": [],
   "source": []
  }
 ],
 "metadata": {
  "kernelspec": {
   "display_name": "Python 3.10.3 64-bit",
   "language": "python",
   "name": "python3"
  },
  "language_info": {
   "codemirror_mode": {
    "name": "ipython",
    "version": 3
   },
   "file_extension": ".py",
   "mimetype": "text/x-python",
   "name": "python",
   "nbconvert_exporter": "python",
   "pygments_lexer": "ipython3",
   "version": "3.10.3"
  },
  "orig_nbformat": 4,
  "vscode": {
   "interpreter": {
    "hash": "9337a79df3e5d869f0c5777e0d2b1209a728c6a52c1d44e22a85de3e5a3843fd"
   }
  }
 },
 "nbformat": 4,
 "nbformat_minor": 2
}
